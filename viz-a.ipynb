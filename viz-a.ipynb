{
 "cells": [
  {
   "cell_type": "markdown",
   "source": [
    "# Lab 14 - Data Visualization - VISUAL A\n",
    "\n",
    "## Author: Kassie Bradshaw\n",
    "\n",
    "## Date: 07-20-2021\n",
    "\n",
    "## Dataset: Something\n"
   ],
   "metadata": {}
  }
 ],
 "metadata": {
  "orig_nbformat": 4,
  "language_info": {
   "name": "python"
  }
 },
 "nbformat": 4,
 "nbformat_minor": 2
}